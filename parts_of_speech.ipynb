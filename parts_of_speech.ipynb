{
  "nbformat": 4,
  "nbformat_minor": 0,
  "metadata": {
    "colab": {
      "provenance": [],
      "authorship_tag": "ABX9TyPkucznW5V/kxubxpm9JPju",
      "include_colab_link": true
    },
    "kernelspec": {
      "name": "python3",
      "display_name": "Python 3"
    },
    "language_info": {
      "name": "python"
    }
  },
  "cells": [
    {
      "cell_type": "markdown",
      "metadata": {
        "id": "view-in-github",
        "colab_type": "text"
      },
      "source": [
        "<a href=\"https://colab.research.google.com/github/Gopika-S-Raj/DATASCIENCE_LAB/blob/main/parts_of_speech.ipynb\" target=\"_parent\"><img src=\"https://colab.research.google.com/assets/colab-badge.svg\" alt=\"Open In Colab\"/></a>"
      ]
    },
    {
      "cell_type": "code",
      "source": [
        "import spacy"
      ],
      "metadata": {
        "id": "sAhv9N783HIM"
      },
      "execution_count": 14,
      "outputs": []
    },
    {
      "cell_type": "code",
      "source": [
        "sp = spacy.load('en_core_web_sm')"
      ],
      "metadata": {
        "id": "TnM19zd_61wR"
      },
      "execution_count": 15,
      "outputs": []
    },
    {
      "cell_type": "code",
      "source": [
        "wd=sp(\"they planned for IV\")"
      ],
      "metadata": {
        "id": "O6pJps5T6-VI"
      },
      "execution_count": 24,
      "outputs": []
    },
    {
      "cell_type": "code",
      "source": [
        "print(wd.text)"
      ],
      "metadata": {
        "colab": {
          "base_uri": "https://localhost:8080/"
        },
        "id": "Sj9BL0WT7LWJ",
        "outputId": "33b0f9a5-1e1d-4204-ea40-a71ea6e2c39c"
      },
      "execution_count": 25,
      "outputs": [
        {
          "output_type": "stream",
          "name": "stdout",
          "text": [
            "they planned for IV\n"
          ]
        }
      ]
    },
    {
      "cell_type": "code",
      "source": [
        "print(wd[0].pos_)"
      ],
      "metadata": {
        "colab": {
          "base_uri": "https://localhost:8080/"
        },
        "id": "Or6_U4Rb74rQ",
        "outputId": "28585a3a-a022-474f-a9bd-3ed9716134d2"
      },
      "execution_count": 30,
      "outputs": [
        {
          "output_type": "stream",
          "name": "stdout",
          "text": [
            "PRON\n"
          ]
        }
      ]
    },
    {
      "cell_type": "code",
      "source": [
        "print(wd[0].tag_)"
      ],
      "metadata": {
        "colab": {
          "base_uri": "https://localhost:8080/"
        },
        "id": "XSTTWy_E9gwK",
        "outputId": "b4b1aa5c-7655-4c7c-eb7c-2cb48ba724ab"
      },
      "execution_count": 32,
      "outputs": [
        {
          "output_type": "stream",
          "name": "stdout",
          "text": [
            "PRP\n"
          ]
        }
      ]
    },
    {
      "cell_type": "code",
      "source": [
        "print(spacy.explain(wd[0].tag_))"
      ],
      "metadata": {
        "colab": {
          "base_uri": "https://localhost:8080/"
        },
        "id": "45V010B8-Mho",
        "outputId": "a596e0f8-06dd-4bb8-fa30-0024d56fb1f5"
      },
      "execution_count": 33,
      "outputs": [
        {
          "output_type": "stream",
          "name": "stdout",
          "text": [
            "pronoun, personal\n"
          ]
        }
      ]
    },
    {
      "cell_type": "code",
      "source": [
        "for word in wd:\n",
        "  print(f'{word.text:{10}}{word.pos_:{10}} {word.tag_:{10}} {spacy.explain(word.tag_)}')\n",
        "  "
      ],
      "metadata": {
        "colab": {
          "base_uri": "https://localhost:8080/"
        },
        "id": "Dj6OVQXP-dlv",
        "outputId": "fe0a7648-3d23-44b5-fd9d-db87a412d2df"
      },
      "execution_count": 37,
      "outputs": [
        {
          "output_type": "stream",
          "name": "stdout",
          "text": [
            "they      PRON       PRP        pronoun, personal\n",
            "planned   VERB       VBD        verb, past tense\n",
            "for       ADP        IN         conjunction, subordinating or preposition\n",
            "IV        PROPN      NNP        noun, proper singular\n"
          ]
        }
      ]
    },
    {
      "cell_type": "code",
      "source": [
        "sen = sp(u'Can you google it?')\n",
        "word = sen[2]\n",
        "\n",
        "print(f'{word.text:{12}} {word.pos_:{10}} {word.tag_:{8}} {spacy.explain(word.tag_)}')"
      ],
      "metadata": {
        "colab": {
          "base_uri": "https://localhost:8080/"
        },
        "id": "tu4AphXI-oqf",
        "outputId": "88a90328-1c68-4ced-c3ba-6fa837878194"
      },
      "execution_count": 38,
      "outputs": [
        {
          "output_type": "stream",
          "name": "stdout",
          "text": [
            "google       VERB       VB       verb, base form\n"
          ]
        }
      ]
    }
  ]
}